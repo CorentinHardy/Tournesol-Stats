{
 "cells": [
  {
   "cell_type": "code",
   "execution_count": null,
   "metadata": {},
   "outputs": [],
   "source": [
    "# Requirements Installations\n",
    "%pip install requests networkx"
   ]
  },
  {
   "cell_type": "code",
   "execution_count": null,
   "metadata": {},
   "outputs": [],
   "source": [
    "# Imports\n",
    "import os\n",
    "import random\n",
    "import networkx as nx\n",
    "\n",
    "# Ensure notebook is running from src/ dir\n",
    "_pwd = os.path.realpath('.').split(os.sep)\n",
    "if 'src' in _pwd:\n",
    "\twhile _pwd[-1] != 'src':\n",
    "\t\t_pwd.pop()\n",
    "\tos.chdir(os.sep.join(_pwd))\n",
    "print(os.path.realpath('.'))\n",
    "\n",
    "# Local project requirements\n",
    "from model.tournesol_api import TournesolAPI, get"
   ]
  },
  {
   "cell_type": "markdown",
   "metadata": {},
   "source": [
    "# Parameters\n",
    "\n",
    "JWT: Get it from tournesol.app\n",
    "\n",
    "- open website, open dev tools, get any request to Tournesol api, see Request Headers, get `Authentication=\"Bearer ...\"` value\n",
    "- DO NOT SHARE THIS TOKEN TO ANYONE. NEVER. IN ANY CONDITIONS. Even support will never need it.\n",
    "- This token expires after some time of inactivity. If tool fails, try to update the token first.\n",
    "\n",
    "LNGS: Pick all the languages of the videos to keep"
   ]
  },
  {
   "cell_type": "code",
   "execution_count": null,
   "metadata": {
    "tags": [
     "parameters"
    ]
   },
   "outputs": [],
   "source": [
    "# PARAMETERS\n",
    "TOURNESOL_API=TournesolAPI(input('JWT (example: \"Bearer xxxxxxxxx\")'))\n",
    "TOURNESOL_API.loadCache(f\"../data/Tournesol_API_cache-{TOURNESOL_API.username}.json.gz\")"
   ]
  },
  {
   "cell_type": "markdown",
   "metadata": {},
   "source": [
    "-----\n",
    "# Main part"
   ]
  },
  {
   "cell_type": "code",
   "execution_count": null,
   "metadata": {},
   "outputs": [],
   "source": [
    "# Load dataset\n",
    "comparisons = TOURNESOL_API.getAllMyComparisons(useCache=True)\n",
    "\n",
    "public_graph = nx.Graph()\n",
    "directed_graph = nx.DiGraph()\n",
    "for cdata in comparisons:\n",
    "\tif cdata.get('is_public', False):\n",
    "\t\tpublic_graph.add_edge(cdata['entity_a'], cdata['entity_b'])\n",
    "\n",
    "\tscore = [dta['score'] for dta in cdata['criteria_scores'] if dta['criteria'] == 'largely_recommended'][0]\n",
    "\tif score >= 0:\n",
    "\t\tdirected_graph.add_edge(cdata['entity_a'], cdata['entity_b'])\n",
    "\tif score <= 0:\n",
    "\t\tdirected_graph.add_edge(cdata['entity_b'], cdata['entity_a'])\n",
    "private_graph = directed_graph.to_undirected(as_view=True)\n",
    "\n",
    "videos = {vid: TOURNESOL_API.getVData(vid, useCache=True, saveCache=False) for vid in private_graph.nodes}\n",
    "\n",
    "print('Videos', len(videos))\n",
    "print('Comparisons', len(comparisons))\n",
    "print('Public', public_graph)\n",
    "print('Private', private_graph)\n",
    "print('Directed', directed_graph)"
   ]
  },
  {
   "cell_type": "code",
   "execution_count": null,
   "metadata": {},
   "outputs": [],
   "source": [
    "# Suggest comparisons\n",
    "candidates = [vid for vid in public_graph.nodes\n",
    "\tif get(videos[vid], 0, 'collective_rating', 'n_contributors') > private_graph.degree[vid]\n",
    "\tand public_graph.degree[vid] <= 3\n",
    "]\n",
    "print('Candidates', len(candidates))\n",
    "\n",
    "MAXD_PRIVATE = private_graph.number_of_nodes()\n",
    "MAXD_PUBLIC = public_graph.number_of_nodes()\n",
    "\n",
    "simupublic = public_graph.copy()\n",
    "simulgraph = directed_graph.copy()\n",
    "undirected = simulgraph.to_undirected(as_view=True)\n",
    "i=0\n",
    "while len(candidates) >= 2:\n",
    "\ti+=1\n",
    "\tdistances:dict[str,dict[str,int]] = {}\n",
    "\ttot_length:dict[str,int] = {}\n",
    "\tfor c in candidates:\n",
    "\t\tprivate_dists_from_c = nx.single_source_shortest_path_length(undirected, source=c)\n",
    "\t\tpublic_dists_from_c = nx.single_source_shortest_path_length(simupublic, source=c)\n",
    "\t\tdistances[c] = {}\n",
    "\t\ttot_length[c] = 0\n",
    "\t\tfor d in candidates:\n",
    "\t\t\tif c == d: continue\n",
    "\t\t\tlength = private_dists_from_c.get(d, MAXD_PRIVATE) + public_dists_from_c.get(d, MAXD_PUBLIC)\n",
    "\t\t\tdistances[c][d] = length\n",
    "\t\t\ttot_length[c] += length\n",
    "\n",
    "\tcmp1 = min(tot_length, key=tot_length.get)\n",
    "\tcmp2 = max((vid for vid in distances[cmp1] if not nx.has_path(simulgraph, cmp1, vid) and not nx.has_path(simulgraph, vid, cmp1)), key=distances[cmp1].get)\n",
    "\t\n",
    "\t(cmp1, cmp2) = random.choice([(cmp1, cmp2), (cmp2, cmp1)])\n",
    "\tsp1 = '∞'\n",
    "\tsp2 = '∞'\n",
    "\ttry: sp1 = nx.shortest_path_length(undirected, cmp1, cmp2)\n",
    "\texcept: pass\n",
    "\ttry: sp2 = nx.shortest_path_length(simupublic, cmp1, cmp2)\n",
    "\texcept: pass\n",
    "\tprint(f\"{i:4d}: https://tournesol.app/comparison?uidA={cmp1}&uidB={cmp2} distance:{sp2} (private:{sp1})\")\n",
    "\tcandidates.remove(cmp1)\n",
    "\tcandidates.remove(cmp2)\n",
    "\tsimulgraph.add_edge(cmp1, cmp2)\n",
    "\tsimulgraph.add_edge(cmp2, cmp1)\n",
    "\tsimupublic.add_edge(cmp1, cmp2)\n",
    "\tif i >= 30:\n",
    "\t\tbreak"
   ]
  }
 ],
 "metadata": {
  "kernelspec": {
   "display_name": "Python 3",
   "language": "python",
   "name": "python3"
  },
  "language_info": {
   "codemirror_mode": {
    "name": "ipython",
    "version": 3
   },
   "file_extension": ".py",
   "mimetype": "text/x-python",
   "name": "python",
   "nbconvert_exporter": "python",
   "pygments_lexer": "ipython3",
   "version": "3.12.2"
  }
 },
 "nbformat": 4,
 "nbformat_minor": 2
}
